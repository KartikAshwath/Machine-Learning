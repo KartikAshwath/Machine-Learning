{
 "cells": [
  {
   "cell_type": "markdown",
   "id": "1de75693",
   "metadata": {},
   "source": [
    "### Polynomial Regression Explained 📈\n",
    "\n",
    "* **Definition:** A form of **linear regression** that models the relationship between variables as an **n-th degree polynomial** to fit a curved line to the data.\n",
    "* **Main Goal:** To capture **non-linear relationships** that cannot be accurately represented by a straight line.\n",
    "\n",
    "***\n",
    "\n",
    "### The Polynomial Equation\n",
    "\n",
    "* **Variables:** Can involve a single independent variable ($x$), but the model uses higher powers of that variable.\n",
    "* **Equation:** $y = c + m_1x + m_2x^2 + \\dots + m_nx^n$\n",
    "    * $y$: **Predicted dependent variable**.\n",
    "    * $x$: **Independent variable**.\n",
    "    * $c$: **Y-intercept**.\n",
    "    * $m_1, m_2, \\dots, m_n$: **Coefficients** (or weights) for each polynomial term.\n",
    "    * $n$: **Degree of the polynomial**, which determines the complexity of the curve.\n",
    "\n",
    "***\n",
    "\n",
    "### How It Works\n",
    "\n",
    "* **Feature Transformation:** The independent variable is transformed into a set of polynomial features (e.g., $x$, $x^2$, $x^3$).\n",
    "* **Linear Fitting:** A standard **multiple linear regression model** is then fitted to these new, transformed features.\n",
    "* **Curve:** The model finds the coefficients that minimize the **sum of squared errors**, just like linear regression, but because it's fitted to the non-linear features, the resulting prediction line is a **curve**."
   ]
  },
  {
   "cell_type": "code",
   "execution_count": 8,
   "id": "00f41caf",
   "metadata": {},
   "outputs": [],
   "source": [
    "import pandas as pd\n",
    "from sklearn.linear_model import LinearRegression\n",
    "from sklearn.preprocessing import PolynomialFeatures\n",
    "from sklearn.model_selection import train_test_split\n",
    "from sklearn.metrics import mean_squared_error, r2_score,mean_absolute_error"
   ]
  },
  {
   "cell_type": "code",
   "execution_count": 9,
   "id": "5172bcd3",
   "metadata": {},
   "outputs": [
    {
     "data": {
      "text/html": [
       "<div>\n",
       "<style scoped>\n",
       "    .dataframe tbody tr th:only-of-type {\n",
       "        vertical-align: middle;\n",
       "    }\n",
       "\n",
       "    .dataframe tbody tr th {\n",
       "        vertical-align: top;\n",
       "    }\n",
       "\n",
       "    .dataframe thead th {\n",
       "        text-align: right;\n",
       "    }\n",
       "</style>\n",
       "<table border=\"1\" class=\"dataframe\">\n",
       "  <thead>\n",
       "    <tr style=\"text-align: right;\">\n",
       "      <th></th>\n",
       "      <th>Feature1_X</th>\n",
       "      <th>Feature2_Sin</th>\n",
       "      <th>Feature3_Cos</th>\n",
       "      <th>Target_Y</th>\n",
       "    </tr>\n",
       "  </thead>\n",
       "  <tbody>\n",
       "    <tr>\n",
       "      <th>0</th>\n",
       "      <td>-10.000000</td>\n",
       "      <td>5.415919</td>\n",
       "      <td>1.412162</td>\n",
       "      <td>-4314.156144</td>\n",
       "    </tr>\n",
       "    <tr>\n",
       "      <th>1</th>\n",
       "      <td>-9.959920</td>\n",
       "      <td>4.643102</td>\n",
       "      <td>1.658929</td>\n",
       "      <td>-4231.601601</td>\n",
       "    </tr>\n",
       "    <tr>\n",
       "      <th>2</th>\n",
       "      <td>-9.919840</td>\n",
       "      <td>3.574651</td>\n",
       "      <td>0.975062</td>\n",
       "      <td>-4201.691316</td>\n",
       "    </tr>\n",
       "    <tr>\n",
       "      <th>3</th>\n",
       "      <td>-9.879760</td>\n",
       "      <td>3.724661</td>\n",
       "      <td>1.019684</td>\n",
       "      <td>-4057.740787</td>\n",
       "    </tr>\n",
       "    <tr>\n",
       "      <th>4</th>\n",
       "      <td>-9.839679</td>\n",
       "      <td>3.248071</td>\n",
       "      <td>1.875917</td>\n",
       "      <td>-3970.548385</td>\n",
       "    </tr>\n",
       "  </tbody>\n",
       "</table>\n",
       "</div>"
      ],
      "text/plain": [
       "   Feature1_X  Feature2_Sin  Feature3_Cos     Target_Y\n",
       "0  -10.000000      5.415919      1.412162 -4314.156144\n",
       "1   -9.959920      4.643102      1.658929 -4231.601601\n",
       "2   -9.919840      3.574651      0.975062 -4201.691316\n",
       "3   -9.879760      3.724661      1.019684 -4057.740787\n",
       "4   -9.839679      3.248071      1.875917 -3970.548385"
      ]
     },
     "execution_count": 9,
     "metadata": {},
     "output_type": "execute_result"
    }
   ],
   "source": [
    "df=pd.read_csv(r\"G:\\Docs\\Macchine Learning\\Polynomial Regression\\Polynomial Regression.csv\")\n",
    "df.head()"
   ]
  },
  {
   "cell_type": "code",
   "execution_count": 10,
   "id": "c3037cf6",
   "metadata": {},
   "outputs": [
    {
     "name": "stdout",
     "output_type": "stream",
     "text": [
      "train set shape: (300, 3)\n",
      "test set shape: (100, 3)\n",
      "validation set shape: (100, 3)\n"
     ]
    }
   ],
   "source": [
    "x=df[[\"Feature1_X\",\"Feature2_Sin\",\"Feature3_Cos\"]]\n",
    "y=df[\"Target_Y\"]\n",
    "x_train,x_temp,y_train,y_temp=train_test_split(x,y,test_size=0.4,random_state=42)\n",
    "x_val,x_test,y_val,y_test=train_test_split(x_temp,y_temp,test_size=0.5,random_state=42)\n",
    "print(\"train set shape:\",x_train.shape)\n",
    "print(\"test set shape:\",x_test.shape)\n",
    "print(\"validation set shape:\",x_val.shape)"
   ]
  },
  {
   "cell_type": "code",
   "execution_count": 11,
   "id": "4abe5ea8",
   "metadata": {},
   "outputs": [],
   "source": [
    "poly=PolynomialFeatures(degree=2,include_bias=False)\n",
    "x_train_poly=poly.fit_transform(x_train)\n",
    "x_val_poly=poly.fit_transform(x_val)\n",
    "x_test_poly=poly.fit_transform(x_test)\n",
    "\n",
    "lin_model=LinearRegression()\n",
    "lin_model.fit(x_train_poly,y_train)\n",
    "\n",
    "y_pred=lin_model.predict(x_test_poly)"
   ]
  },
  {
   "cell_type": "code",
   "execution_count": null,
   "id": "31f0ff06",
   "metadata": {},
   "outputs": [
    {
     "name": "stdout",
     "output_type": "stream",
     "text": [
      "R-squared score on the training set: 0.9307747624379472\n",
      "R-squared score on the validation set: 0.9352871555476181\n",
      "R-squared score on the test set: 0.9433886811076744\n",
      "Mean Squared Error: 153118.82322408454\n",
      "Mean Absolute Error: 306.1362918583932\n",
      "R2 Score: 0.9433886811076744\n"
     ]
    }
   ],
   "source": [
    "train_score = lin_model.score(x_train_poly, y_train)\n",
    "val_score = lin_model.score(x_val_poly, y_val)\n",
    "test_score = lin_model.score(x_test_poly, y_test)\n",
    "\n",
    "print(\"R-squared score on the training set:\", train_score)\n",
    "print(\"R-squared score on the validation set:\", val_score)\n",
    "print(\"R-squared score on the test set:\", test_score)\n",
    "\n",
    "\n",
    "print(\"Mean Squared Error:\", mean_squared_error(y_test_poly, y_pred))\n",
    "print(\"Mean Absolute Error:\", mean_absolute_error(y_test_poly, y_pred))\n",
    "print(\"R2 Score:\", r2_score(y_test_poly, y_pred))"
   ]
  },
  {
   "cell_type": "code",
   "execution_count": 16,
   "id": "18161435",
   "metadata": {},
   "outputs": [
    {
     "data": {
      "image/png": "[encoded data removed]",
      "text/plain": [
       "<Figure size 640x480 with 1 Axes>"
      ]
     },
     "metadata": {},
     "output_type": "display_data"
    }
   ],
   "source": [
    "import matplotlib.pyplot as plt\n",
    "plt.scatter(y_test, y_pred, color='blue', alpha=0.5)\n",
    "plt.xlabel('Actual Values')\n",
    "plt.ylabel('Predicted Values')\n",
    "plt.title('Actual vs Predicted Values')\n",
    "plt.plot([y_test.min(), y_test.max()], [y_test.min(), y_test.max()], color='red', lw=2)\n",
    "plt.show()\n"
   ]
  },
  {
   "cell_type": "markdown",
   "id": "0fb86c9c",
   "metadata": {},
   "source": [
    "Polynomial regression uses linear fitting because it is a linear model **in terms of its coefficients**, not its independent variables. The reason you are getting 9 values is due to the number of new features created from your original three features.\n",
    "\n",
    "***\n",
    "\n",
    "### Why We Use Linear Fitting for Polynomial Regression\n",
    "\n",
    "Polynomial regression is essentially a clever application of multiple linear regression. The process works in two main steps:\n",
    "\n",
    "1.  **Feature Transformation:** The original features (`x`) are transformed into a new set of polynomial features (e.g., $x$, $x^2$, $x^3$).\n",
    "2.  **Linear Model Application:** A standard linear regression model is then fitted to these **transformed** features. The algorithm finds the coefficients for each of these new features.\n",
    "\n",
    "This approach is still considered linear regression because the relationship to the coefficients ($m_1$, $m_2$, etc.) is linear. This makes it possible to use the same efficient fitting methods and algorithms that are used for multiple linear regression.\n",
    "\n",
    "***\n",
    "\n",
    "### Why the Model Returns 9 Values\n",
    "\n",
    "Your original dataset had three independent variables: `Feature1_X`, `Feature2_Sin`, and `Feature3_Cos`.\n",
    "\n",
    "When you set the `degree=2` for the `PolynomialFeatures` function, it generates all possible combinations of the original features up to that degree. This results in the creation of nine new features:\n",
    "\n",
    "1.  The three original features:\n",
    "    * `Feature1_X`\n",
    "    * `Feature2_Sin`\n",
    "    * `Feature3_Cos`\n",
    "2.  The three squared terms:\n",
    "    * `Feature1_X^2`\n",
    "    * `Feature2_Sin^2`\n",
    "    * `Feature3_Cos^2`\n",
    "3.  The three interaction terms:\n",
    "    * `Feature1_X Feature2_Sin`\n",
    "    * `Feature1_X Feature3_Cos`\n",
    "    * `Feature2_Sin Feature3_Cos`\n",
    "\n",
    "The linear regression model then calculates a unique coefficient for each of these nine new features, which is why the output showed an array of 9 coefficient values. The model also calculates an intercept value, which is not part of the coefficient array.\n",
    "\n",
    "\n",
    "\n",
    "\n",
    "\n",
    "\n",
    "\n",
    "\n",
    "\n",
    "It's not compulsory to specify the `degree` and `include_bias` parameters, but understanding their defaults and effects is crucial for building an effective model.\n",
    "\n",
    "---\n",
    "\n",
    "### `degree`\n",
    "The `degree` parameter is **not compulsory** because it has a default value of `2`.\n",
    "\n",
    "* **What it does:** This parameter determines the **highest power** of the independent variable(s) that will be included in the model. A degree of 1 creates a straight line (simple linear regression), while a degree of 2 creates a parabolic curve, and so on.\n",
    "* **What happens if you don't specify it:** If you don't provide a `degree` value, the `PolynomialFeatures` function will use the default value of `2`. This might not be the best fit for your data, as a lower degree could lead to **underfitting** (a model that is too simple) and a higher degree could lead to **overfitting** (a model that is too complex).\n",
    "\n",
    "---\n",
    "\n",
    "### `include_bias`\n",
    "The `include_bias` parameter is also **not compulsory** and its default value is `True`.\n",
    "\n",
    "* **What it does:** When set to `True`, it adds a column of all `1s` to your transformed feature set. This column represents the **intercept** ($c$) of the linear regression equation.\n",
    "* **What happens if you don't specify it:** The default `True` value means that a redundant feature for the intercept will be created. Since `LinearRegression` models already calculate an intercept by default, this can lead to a slight redundancy. It won't break the model, but it's a good practice to set it to `False` to avoid this."
   ]
  },
  {
   "cell_type": "markdown",
   "id": "232b3bee",
   "metadata": {},
   "source": []
  }
 ],
 "metadata": {
  "kernelspec": {
   "display_name": "Python 3",
   "language": "python",
   "name": "python3"
  },
  "language_info": {
   "codemirror_mode": {
    "name": "ipython",
    "version": 3
   },
   "file_extension": ".py",
   "mimetype": "text/x-python",
   "name": "python",
   "nbconvert_exporter": "python",
   "pygments_lexer": "ipython3",
   "version": "3.12.9"
  }
 },
 "nbformat": 4,
 "nbformat_minor": 5
}
