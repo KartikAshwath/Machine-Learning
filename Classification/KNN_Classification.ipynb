{
 "cells": [
  {
   "cell_type": "code",
   "execution_count": null,
   "id": "91d36056",
   "metadata": {},
   "outputs": [
    {
     "name": "stdout",
     "output_type": "stream",
     "text": [
      "Best degree: 2\n",
      "Best alpha: 0.1\n",
      "CV RMSE: 4.918362595398493\n",
      "Test RMSE: 4.169805356300806\n"
     ]
    }
   ],
   "source": [
    "import numpy as np\n",
    "import pandas as pd\n",
    "import matplotlib.pyplot as plt\n",
    "from sklearn.model_selection import train_test_split\n",
    "from sklearn.preprocessing import StandardScaler\n",
    "from imblearn.over_sampling import RandomOverSampler\n",
    "from sklearn.neighbors import KNeighborsClassifier\n",
    "from sklearn.metrics import classification_report\n",
    "\n",
    "# 1) Load dataset\n",
    "cols = [\"fLength\", \"fWidth\", \"fSize\", \"fConc\", \"fConc1\", \n",
    "        \"fAsym\", \"fM3Long\", \"fM3Trans\", \"fAlpha\", \"fDist\", \"class\"]\n",
    "df = pd.read_csv(\"magic04.data\", names=cols)\n",
    "\n",
    "# Convert target to binary (1 = gamma, 0 = hadron)\n",
    "df[\"class\"] = (df[\"class\"] == \"g\").astype(int)\n",
    "\n",
    "# Separate features & target\n",
    "\"\"\"X = df[[\"fLength\", \"fWidth\", \"fSize\", \"fConc\", \"fConc1\", \n",
    "        \"fAsym\", \"fM3Long\", \"fM3Trans\", \"fAlpha\", \"fDist\"]]\n",
    "y = df[\"class\"]\n",
    "\"\"\"\n",
    "X = df.drop(columns=[\"class\"]).values\n",
    "y = df[\"class\"].values\n",
    "\n",
    "# 2) Split into Train / Temp (Train = 70%, Temp = 30%)\n",
    "X_train, X_temp, y_train, y_temp = train_test_split(\n",
    "    X, y, test_size=0.3, random_state=42, shuffle=True\n",
    ")\n",
    "\n",
    "# 3) Split Temp into Validation / Test (each 15% of original data)\n",
    "X_val, X_test, y_val, y_test = train_test_split(\n",
    "    X_temp, y_temp, test_size=0.5, random_state=42, shuffle=True\n",
    ")\n",
    "\n",
    "# 4) Oversample only the training set\n",
    "ros = RandomOverSampler()\n",
    "X_train, y_train = ros.fit_resample(X_train, y_train)\n",
    "\n",
    "# 5) Scale using training set stats only\n",
    "scaler = StandardScaler()\n",
    "X_train_scaled = scaler.fit_transform(X_train)\n",
    "X_val_scaled   = scaler.transform(X_val)\n",
    "X_test_scaled  = scaler.transform(X_test)\n",
    "\n",
    "# 6) Train KNN model\n",
    "knn_model = KNeighborsClassifier(n_neighbors=5)\n",
    "knn_model.fit(X_train_scaled, y_train)\n",
    "\n",
    "# 7) Predict & Evaluate\n",
    "y_pred = knn_model.predict(X_test_scaled)\n",
    "print(classification_report(y_test, y_pred))\n"
   ]
  },
  {
   "cell_type": "code",
   "execution_count": null,
   "id": "d4abd6e3",
   "metadata": {},
   "outputs": [],
   "source": []
  }
 ],
 "metadata": {
  "kernelspec": {
   "display_name": "Python 3",
   "language": "python",
   "name": "python3"
  },
  "language_info": {
   "codemirror_mode": {
    "name": "ipython",
    "version": 3
   },
   "file_extension": ".py",
   "mimetype": "text/x-python",
   "name": "python",
   "nbconvert_exporter": "python",
   "pygments_lexer": "ipython3",
   "version": "3.12.9"
  }
 },
 "nbformat": 4,
 "nbformat_minor": 5
}
