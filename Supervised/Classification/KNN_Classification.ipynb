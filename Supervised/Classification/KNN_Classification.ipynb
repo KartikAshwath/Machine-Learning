{
  "nbformat": 4,
  "nbformat_minor": 0,
  "metadata": {
    "colab": {
      "provenance": []
    },
    "kernelspec": {
      "name": "python3",
      "display_name": "Python 3"
    },
    "language_info": {
      "name": "python"
    }
  },
  "cells": [
    {
      "cell_type": "code",
      "source": [
        "import numpy as np\n",
        "import pandas as pd\n",
        "import matplotlib.pyplot as plt\n",
        "from sklearn.model_selection import train_test_split\n",
        "from sklearn.preprocessing import StandardScaler\n",
        "from imblearn.over_sampling import RandomOverSampler\n",
        "from sklearn.neighbors import KNeighborsClassifier\n",
        "from sklearn.metrics import classification_report"
      ],
      "metadata": {
        "id": "xctxPaFyOj2D"
      },
      "execution_count": null,
      "outputs": []
    },
    {
      "cell_type": "code",
      "source": [
        "# 1) Load dataset\n",
        "cols = [\"fLength\", \"fWidth\", \"fSize\", \"fConc\", \"fConc1\",\n",
        "        \"fAsym\", \"fM3Long\", \"fM3Trans\", \"fAlpha\", \"fDist\", \"class\"]\n",
        "df = pd.read_csv(\"magic04.data\", names=cols)"
      ],
      "metadata": {
        "id": "ybnjtPctUZbb"
      },
      "execution_count": null,
      "outputs": []
    },
    {
      "cell_type": "code",
      "source": [
        "# Convert target to binary (1 = gamma, 0 = hadron)\n",
        "df[\"class\"] = (df[\"class\"] == \"g\").astype(int)"
      ],
      "metadata": {
        "id": "tZfrLgOxVU9z"
      },
      "execution_count": null,
      "outputs": []
    },
    {
      "cell_type": "code",
      "source": [
        "# Separate features & target\n",
        "#Also can use this way (separating target and the features)\n",
        "#X = df[[\"fLength\", \"fWidth\", \"fSize\", \"fConc\", \"fConc1\", \"fAsym\", \"fM3Long\", \"fM3Trans\", \"fAlpha\", \"fDist\"]]\n",
        "#y = df[\"class\"]\n",
        "\n",
        "X = df.drop(columns=[\"class\"]).values\n",
        "y = df[\"class\"].values"
      ],
      "metadata": {
        "id": "CyW76B-RVgQ-"
      },
      "execution_count": null,
      "outputs": []
    },
    {
      "cell_type": "code",
      "source": [
        "#Split into Train / Temp (Train = 70%, Temp = 30%)\n",
        "X_train, X_temp, y_train, y_temp = train_test_split(\n",
        "    X, y, test_size=0.3, random_state=42, shuffle=True\n",
        ")\n",
        "\n",
        "#Split Temp into Validation / Test (each 15% of original data)\n",
        "X_val, X_test, y_val, y_test = train_test_split(\n",
        "    X_temp, y_temp, test_size=0.5, random_state=42, shuffle=True\n",
        ")"
      ],
      "metadata": {
        "id": "XYT5NDzSVl6W"
      },
      "execution_count": null,
      "outputs": []
    },
    {
      "cell_type": "code",
      "source": [
        "#Oversample only the training set\n",
        "ros = RandomOverSampler()\n",
        "X_train, y_train = ros.fit_resample(X_train, y_train)\n",
        "\n",
        "#Scale using training set stats only\n",
        "scaler = StandardScaler()\n",
        "X_train_scaled = scaler.fit_transform(X_train)\n",
        "X_val_scaled   = scaler.transform(X_val)\n",
        "X_test_scaled  = scaler.transform(X_test)"
      ],
      "metadata": {
        "id": "cC3_OL53Vweh"
      },
      "execution_count": null,
      "outputs": []
    },
    {
      "cell_type": "code",
      "source": [
        "#Train KNN model\n",
        "knn_model = KNeighborsClassifier(n_neighbors=5)\n",
        "knn_model.fit(X_train_scaled, y_train)\n",
        "\n",
        "#Predict & Evaluate\n",
        "y_pred = knn_model.predict(X_test_scaled)\n",
        "print(classification_report(y_test, y_pred))"
      ],
      "metadata": {
        "colab": {
          "base_uri": "https://localhost:8080/"
        },
        "id": "tWV_YWlQV67S",
        "outputId": "4d3f390e-7105-405a-b900-cc703bc3be81"
      },
      "execution_count": null,
      "outputs": [
        {
          "output_type": "stream",
          "name": "stdout",
          "text": [
            "              precision    recall  f1-score   support\n",
            "\n",
            "           0       0.75      0.75      0.75      1007\n",
            "           1       0.86      0.87      0.87      1846\n",
            "\n",
            "    accuracy                           0.83      2853\n",
            "   macro avg       0.81      0.81      0.81      2853\n",
            "weighted avg       0.82      0.83      0.82      2853\n",
            "\n"
          ]
        }
      ]
    },
    {
      "cell_type": "code",
      "source": [],
      "metadata": {
        "id": "rmDO2sXtV7oP"
      },
      "execution_count": null,
      "outputs": []
    }
  ]
}