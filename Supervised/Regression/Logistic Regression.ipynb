{
 "cells": [
  {
   "cell_type": "markdown",
   "id": "8f2f021f",
   "metadata": {},
   "source": [
    "### Logistic Regression Explained 📈\n",
    "\n",
    "* **Definition:** A **supervised machine learning algorithm** used for **classification**, which predicts a **categorical outcome** (e.g., yes/no, 0/1) by estimating the probability of a given input belonging to a certain class.\n",
    "* **Main Goal:** To model the relationship between the independent variables and a **binary output** by fitting an S-shaped curve to the data.\n",
    "\n",
    "***\n",
    "\n",
    "### How It Works 🧠\n",
    "\n",
    "* **Linear Foundation:** It starts with a standard linear regression equation, but it doesn't use the output directly.\n",
    "* **The Sigmoid Function:** The result of the linear equation is passed through a **sigmoid function**. This function transforms the output into a value between 0 and 1, which can be interpreted as a probability.\n",
    "* **Decision Boundary:** The model then uses a **decision boundary** (typically at a probability of 0.5) to classify the data point. If the calculated probability is above the boundary, it's assigned to one class; if it's below, it's assigned to the other.\n",
    "\n",
    "\n",
    "\n",
    "***\n",
    "\n",
    "### Key Differences from Linear Regression 📉\n",
    "\n",
    "| Feature | **Linear Regression** | **Logistic Regression** |\n",
    "| :--- | :--- | :--- |\n",
    "| **Problem Type** | **Regression** (predicts continuous values) | **Classification** (predicts categorical values) |\n",
    "| **Output** | A continuous number (e.g., 25.5, 100) | A probability between 0 and 1 |\n",
    "| **Equation** | A straight line ($y = mx+c$) | A sigmoid function to transform the linear equation's output |"
   ]
  },
  {
   "cell_type": "code",
   "execution_count": 1,
   "id": "a790f8af",
   "metadata": {},
   "outputs": [],
   "source": [
    "import pandas as pd\n",
    "from sklearn.linear_model import LogisticRegression\n",
    "from sklearn.model_selection import train_test_split\n",
    "from sklearn.preprocessing import StandardScaler\n",
    "from sklearn.metrics import accuracy_score, confusion_matrix, classification_report\n",
    "from sklearn.metrics import f1_score, precision_score, recall_score"
   ]
  },
  {
   "cell_type": "code",
   "execution_count": 2,
   "id": "1584dc59",
   "metadata": {},
   "outputs": [
    {
     "data": {
      "text/html": [
       "<div>\n",
       "<style scoped>\n",
       "    .dataframe tbody tr th:only-of-type {\n",
       "        vertical-align: middle;\n",
       "    }\n",
       "\n",
       "    .dataframe tbody tr th {\n",
       "        vertical-align: top;\n",
       "    }\n",
       "\n",
       "    .dataframe thead th {\n",
       "        text-align: right;\n",
       "    }\n",
       "</style>\n",
       "<table border=\"1\" class=\"dataframe\">\n",
       "  <thead>\n",
       "    <tr style=\"text-align: right;\">\n",
       "      <th></th>\n",
       "      <th>Age</th>\n",
       "      <th>Annual_Income</th>\n",
       "      <th>Years_Experience</th>\n",
       "      <th>Education_Level</th>\n",
       "      <th>Gender</th>\n",
       "      <th>Purchased</th>\n",
       "    </tr>\n",
       "  </thead>\n",
       "  <tbody>\n",
       "    <tr>\n",
       "      <th>0</th>\n",
       "      <td>56</td>\n",
       "      <td>24000</td>\n",
       "      <td>3</td>\n",
       "      <td>3</td>\n",
       "      <td>1</td>\n",
       "      <td>0</td>\n",
       "    </tr>\n",
       "    <tr>\n",
       "      <th>1</th>\n",
       "      <td>46</td>\n",
       "      <td>90588</td>\n",
       "      <td>18</td>\n",
       "      <td>2</td>\n",
       "      <td>1</td>\n",
       "      <td>0</td>\n",
       "    </tr>\n",
       "    <tr>\n",
       "      <th>2</th>\n",
       "      <td>32</td>\n",
       "      <td>113610</td>\n",
       "      <td>19</td>\n",
       "      <td>1</td>\n",
       "      <td>0</td>\n",
       "      <td>1</td>\n",
       "    </tr>\n",
       "    <tr>\n",
       "      <th>3</th>\n",
       "      <td>60</td>\n",
       "      <td>117856</td>\n",
       "      <td>32</td>\n",
       "      <td>3</td>\n",
       "      <td>0</td>\n",
       "      <td>1</td>\n",
       "    </tr>\n",
       "    <tr>\n",
       "      <th>4</th>\n",
       "      <td>25</td>\n",
       "      <td>58304</td>\n",
       "      <td>19</td>\n",
       "      <td>2</td>\n",
       "      <td>0</td>\n",
       "      <td>1</td>\n",
       "    </tr>\n",
       "  </tbody>\n",
       "</table>\n",
       "</div>"
      ],
      "text/plain": [
       "   Age  Annual_Income  Years_Experience  Education_Level  Gender  Purchased\n",
       "0   56          24000                 3                3       1          0\n",
       "1   46          90588                18                2       1          0\n",
       "2   32         113610                19                1       0          1\n",
       "3   60         117856                32                3       0          1\n",
       "4   25          58304                19                2       0          1"
      ]
     },
     "execution_count": 2,
     "metadata": {},
     "output_type": "execute_result"
    }
   ],
   "source": [
    "df=pd.read_csv(r\"G:\\Docs\\Macchine Learning\\Logistic Regression\\Logistic Regression.csv\")\n",
    "df.head()"
   ]
  },
  {
   "cell_type": "code",
   "execution_count": 3,
   "id": "29c0915f",
   "metadata": {},
   "outputs": [],
   "source": [
    "x=df[[\"Age\",\"Annual_Income\",\"Years_Experience\",\"Education_Level\",\"Gender\"]]\n",
    "y=df[\"Purchased\"]\n",
    "x_train, x_temp, y_train, y_temp = train_test_split(x,y, test_size=0.3, random_state=42)\n",
    "x_val, x_test, y_val, y_test = train_test_split(x_temp,y_temp, test_size=0.5, random_state=42)"
   ]
  },
  {
   "cell_type": "code",
   "execution_count": 4,
   "id": "1a0a01f5",
   "metadata": {},
   "outputs": [],
   "source": [
    "scaler = StandardScaler()\n",
    "x_train_scaled = scaler.fit_transform(x_train)\n",
    "x_test_scaled = scaler.transform(x_test)"
   ]
  },
  {
   "cell_type": "code",
   "execution_count": 5,
   "id": "6f7ceb70",
   "metadata": {},
   "outputs": [
    {
     "name": "stdout",
     "output_type": "stream",
     "text": [
      "Accuracy: 0.72\n",
      "Confusion Matrix:\n",
      " [[ 3 14]\n",
      " [ 7 51]]\n",
      "Classification Report:\n",
      "               precision    recall  f1-score   support\n",
      "\n",
      "           0       0.30      0.18      0.22        17\n",
      "           1       0.78      0.88      0.83        58\n",
      "\n",
      "    accuracy                           0.72        75\n",
      "   macro avg       0.54      0.53      0.53        75\n",
      "weighted avg       0.67      0.72      0.69        75\n",
      "\n"
     ]
    }
   ],
   "source": [
    "log_model= LogisticRegression()\n",
    "log_model.fit(x_train_scaled,y_train)\n",
    "y_pred = log_model.predict(x_test_scaled)\n",
    "print(\"Accuracy:\", accuracy_score(y_test, y_pred))\n",
    "print(\"Confusion Matrix:\\n\", confusion_matrix(y_test, y_pred))\n",
    "print(\"Classification Report:\\n\", classification_report(y_test, y_pred))\n"
   ]
  },
  {
   "cell_type": "code",
   "execution_count": 6,
   "id": "05ba2ffc",
   "metadata": {},
   "outputs": [
    {
     "data": {
      "image/png": "[encoded data removed]",
      "text/plain": [
       "<Figure size 1000x600 with 1 Axes>"
      ]
     },
     "metadata": {},
     "output_type": "display_data"
    }
   ],
   "source": [
    "import matplotlib.pyplot as plt\n",
    "plt.figure(figsize=(10, 6))\n",
    "plt.scatter(y_test, y_pred, color='blue', alpha=0.5)\n",
    "plt.xlabel('Actual Values')\n",
    "plt.ylabel('Predicted Values')\n",
    "plt.title('Actual vs Predicted Values')\n",
    "plt.plot([y_test.min(), y_test.max()], [y_test.min(), y_test.max()], color='red', lw=2)\n",
    "plt.show()"
   ]
  },
  {
   "cell_type": "code",
   "execution_count": null,
   "id": "f38bb5ba",
   "metadata": {},
   "outputs": [],
   "source": []
  }
 ],
 "metadata": {
  "kernelspec": {
   "display_name": "Python 3",
   "language": "python",
   "name": "python3"
  },
  "language_info": {
   "codemirror_mode": {
    "name": "ipython",
    "version": 3
   },
   "file_extension": ".py",
   "mimetype": "text/x-python",
   "name": "python",
   "nbconvert_exporter": "python",
   "pygments_lexer": "ipython3",
   "version": "3.12.9"
  }
 },
 "nbformat": 4,
 "nbformat_minor": 5
}
